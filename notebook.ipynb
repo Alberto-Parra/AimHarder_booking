{
 "cells": [
  {
   "cell_type": "code",
   "execution_count": 70,
   "metadata": {},
   "outputs": [],
   "source": [
    "import os\n",
    "from selenium import webdriver\n",
    "from selenium.webdriver.support import expected_conditions as EC\n",
    "from selenium.webdriver.common.by import By\n",
    "from selenium.webdriver.support.wait import WebDriverWait\n",
    "import time\n",
    "from datetime import date, timedelta\n"
   ]
  },
  {
   "cell_type": "code",
   "execution_count": 76,
   "metadata": {},
   "outputs": [],
   "source": [
    "driver = webdriver.Chrome()\n",
    "url='https://aimharder.com/login'\n",
    "driver.get(url)\n",
    "\n",
    "username = WebDriverWait(driver,3).until(EC.element_to_be_clickable((By.ID, 'mail')))\n",
    "username.clear()\n",
    "username.send_keys('alberto@parracastro.es')\n",
    "\n",
    "userpass = WebDriverWait(driver,1).until(EC.element_to_be_clickable((By.ID, 'pw')))\n",
    "userpass.clear()\n",
    "userpass.send_keys('81X-apc-116')\n",
    "\n",
    "init_botton = WebDriverWait(driver,1).until(EC.element_to_be_clickable((By.ID, 'loginSubmit'))).click()\n",
    "\n",
    "reservas_url = 'https://project96.aimharder.com/schedule'\n",
    "driver.get(reservas_url)\n",
    "\n",
    "today=date.today()\n",
    "offset=timedelta(days=2)\n",
    "fecha_reserva=today+offset\n",
    "\n",
    "fecha_reserva_str=str(fecha_reserva.day)+'/'+str(fecha_reserva.month)+'/'+str(fecha_reserva.year)+'\\n'\n",
    "fecha_reserva_str\n",
    "\n",
    "select_day = WebDriverWait(driver,3).until(EC.element_to_be_clickable((By.ID, 'selw')))\n",
    "select_day.clear()\n",
    "select_day.send_keys(fecha_reserva_str)\n",
    "\n",
    "book_botton = WebDriverWait(driver,3).until(EC.element_to_be_clickable((By.XPATH, '(//a[text()=\"Detalle\"])[1]')))\n",
    "book_botton.click()"
   ]
  },
  {
   "cell_type": "code",
   "execution_count": 59,
   "metadata": {},
   "outputs": [
    {
     "data": {
      "text/plain": [
       "<function selenium.webdriver.support.expected_conditions.element_to_be_clickable.<locals>._predicate(driver)>"
      ]
     },
     "execution_count": 59,
     "metadata": {},
     "output_type": "execute_result"
    }
   ],
   "source": [
    "EC.element_to_be_clickable((By.XPATH, '//a[text()=\"Detalle\"]'))"
   ]
  },
  {
   "cell_type": "code",
   "execution_count": 74,
   "metadata": {},
   "outputs": [
    {
     "data": {
      "text/plain": [
       "'28/10/2023'"
      ]
     },
     "execution_count": 74,
     "metadata": {},
     "output_type": "execute_result"
    }
   ],
   "source": [
    "today=date.today()\n",
    "offset=timedelta(days=2)\n",
    "fecha_reserva=today+offset\n",
    "\n",
    "fecha_reserva=str(fecha_reserva.day)+'/'+str(fecha_reserva.month)+'/'+str(fecha_reserva.year)\n",
    "fecha_reserva"
   ]
  },
  {
   "cell_type": "code",
   "execution_count": null,
   "metadata": {},
   "outputs": [],
   "source": []
  }
 ],
 "metadata": {
  "kernelspec": {
   "display_name": "Alberto",
   "language": "python",
   "name": "python3"
  },
  "language_info": {
   "codemirror_mode": {
    "name": "ipython",
    "version": 3
   },
   "file_extension": ".py",
   "mimetype": "text/x-python",
   "name": "python",
   "nbconvert_exporter": "python",
   "pygments_lexer": "ipython3",
   "version": "3.0.0"
  }
 },
 "nbformat": 4,
 "nbformat_minor": 2
}
